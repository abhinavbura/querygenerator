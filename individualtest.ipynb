{
 "cells": [
  {
   "cell_type": "code",
   "execution_count": 4,
   "metadata": {},
   "outputs": [
    {
     "name": "stdout",
     "output_type": "stream",
     "text": [
      "SELECT\n"
     ]
    }
   ],
   "source": [
    "#using this to predict the intent!\n",
    "from sklearn.model_selection import train_test_split\n",
    "from sklearn.preprocessing import LabelEncoder\n",
    "from sklearn.feature_extraction.text import TfidfVectorizer\n",
    "from sklearn.linear_model import LogisticRegression\n",
    "from sklearn.pipeline import make_pipeline\n",
    "import pandas as pd\n",
    "\n",
    "# Example data\n",
    "data = [\n",
    "    {\"query\": \"Add a new student with name 'Alice', age 14, grade 9, section 'A'\", \"intent\": \"INSERT\"},\n",
    "    {\"query\": \"Update attendance for student with id 3 to 95\", \"intent\": \"UPDATE\"},\n",
    "    {\"query\": \"Get the names of all students in grade 10\", \"intent\": \"SELECT\"},\n",
    "    # Add more examples\n",
    "]\n",
    "df=pd.read_csv(\"studentdatset.csv\")\n",
    "# Prepare data\n",
    "queries = [item[\"query\"] for item in data]\n",
    "intents = [item[\"intent\"] for item in data]\n",
    "queries=df[\"Query\"]\n",
    "intents=df[\"Intent\"]\n",
    "# Encode labels\n",
    "label_encoder = LabelEncoder()\n",
    "y = label_encoder.fit_transform(intents)\n",
    "\n",
    "# Split data\n",
    "X_train, X_test, y_train, y_test = train_test_split(queries, y, test_size=0.2, random_state=42)\n",
    "\n",
    "# Create and train model\n",
    "model = make_pipeline(TfidfVectorizer(), LogisticRegression())\n",
    "model.fit(X_train, y_train)\n",
    "\n",
    "# Predict intent\n",
    "def predict_intent(query):\n",
    "    intent_idx = model.predict([query])[0]\n",
    "    return label_encoder.inverse_transform([intent_idx])[0]\n",
    "\n",
    "# Example prediction\n",
    "print(predict_intent(\"Get the names of all students in grade 10\"))\n"
   ]
  },
  {
   "cell_type": "code",
   "execution_count": 48,
   "metadata": {},
   "outputs": [],
   "source": [
    "from sklearn.multioutput import MultiOutputClassifier\n",
    "\n",
    "# Example data with columns\n",
    "data_with_columns = [\n",
    "    {\"query\": \"Add a new student with name 'Alice', age 14, grade 9, section 'A'\", \"columns\": [\"name\", \"age\", \"grade\", \"section\"]},\n",
    "    {\"query\": \"Update attendance for student with id 3 to 95\", \"columns\": [\"attendance\"]},\n",
    "    {\"query\": \"Get the names of all students in grade 10\", \"columns\": [\"name\"]},\n",
    "    # Add more examples\n",
    "]\n",
    "\n",
    "# Prepare data\n",
    "queries = [item[\"query\"] for item in data_with_columns]\n",
    "columns = [item[\"columns\"] for item in data_with_columns]\n",
    "queries=df[\"Query\"]\n",
    "intents=df[\"Columns\"]\n",
    "# Binarize column labels\n"
   ]
  },
  {
   "cell_type": "code",
   "execution_count": 50,
   "metadata": {},
   "outputs": [
    {
     "name": "stdout",
     "output_type": "stream",
     "text": [
      "[[1 0 1 1 1]\n",
      " [0 1 0 0 0]\n",
      " [0 0 0 1 0]]\n"
     ]
    }
   ],
   "source": [
    "from sklearn.preprocessing import MultiLabelBinarizer\n",
    "mlb = MultiLabelBinarizer()\n",
    "y = mlb.fit_transform(columns)\n",
    "print(y)"
   ]
  },
  {
   "cell_type": "code",
   "execution_count": null,
   "metadata": {},
   "outputs": [],
   "source": [
    "\n",
    "# Split data\n",
    "X_train, X_test, y_train, y_test = train_test_split(queries, y, test_size=0.2, random_state=42)\n",
    "\n",
    "# Create and train model\n",
    "column_model = make_pipeline(TfidfVectorizer(), MultiOutputClassifier(LogisticRegression()))\n",
    "column_model.fit(X_train, y_train)\n",
    "\n",
    "# Predict columns\n",
    "def predict_columns(query):\n",
    "    column_indices = column_model.predict([query])[0]\n",
    "    return mlb.inverse_transform([column_indices])[0]\n",
    "\n",
    "# Example prediction\n",
    "print(predict_columns(\"Add a new student with name 'Alice', age 14, grade 9, section 'A'\"))\n"
   ]
  },
  {
   "cell_type": "code",
   "execution_count": 42,
   "metadata": {},
   "outputs": [
    {
     "data": {
      "text/plain": [
       "['name', 'grade']"
      ]
     },
     "execution_count": 42,
     "metadata": {},
     "output_type": "execute_result"
    }
   ],
   "source": [
    "def clean(word):\n",
    "    word=str(word)\n",
    "    if word==\"*\":\n",
    "        return ['*']\n",
    "    elif word==\"nan\":\n",
    "        return []\n",
    "    \n",
    "    gg=word.replace(\"(\",\"\")\n",
    "    gg=gg.replace(\")\",\"\")\n",
    "    ha =gg.split(\", \")\n",
    "    return ha\n",
    "clean(\"name, grade\")"
   ]
  },
  {
   "cell_type": "code",
   "execution_count": 45,
   "metadata": {},
   "outputs": [],
   "source": [
    "df=pd.read_csv(\"studentdatset.csv\")\n",
    "\n",
    "df.head()\n",
    "df['Columns']=df['Columns'].apply(clean)\n"
   ]
  },
  {
   "cell_type": "code",
   "execution_count": 46,
   "metadata": {},
   "outputs": [
    {
     "data": {
      "text/html": [
       "<div>\n",
       "<style scoped>\n",
       "    .dataframe tbody tr th:only-of-type {\n",
       "        vertical-align: middle;\n",
       "    }\n",
       "\n",
       "    .dataframe tbody tr th {\n",
       "        vertical-align: top;\n",
       "    }\n",
       "\n",
       "    .dataframe thead th {\n",
       "        text-align: right;\n",
       "    }\n",
       "</style>\n",
       "<table border=\"1\" class=\"dataframe\">\n",
       "  <thead>\n",
       "    <tr style=\"text-align: right;\">\n",
       "      <th></th>\n",
       "      <th>Query</th>\n",
       "      <th>Intent</th>\n",
       "      <th>Columns</th>\n",
       "      <th>Conditions</th>\n",
       "    </tr>\n",
       "  </thead>\n",
       "  <tbody>\n",
       "    <tr>\n",
       "      <th>0</th>\n",
       "      <td>Add a new student with name 'Alice', age 14, g...</td>\n",
       "      <td>INSERT</td>\n",
       "      <td>[name, age, grade, section]</td>\n",
       "      <td>('Alice', 14, 9, 'A')</td>\n",
       "    </tr>\n",
       "    <tr>\n",
       "      <th>1</th>\n",
       "      <td>Update attendance for student with id 3 to 95</td>\n",
       "      <td>UPDATE</td>\n",
       "      <td>[attendance]</td>\n",
       "      <td>id = 3</td>\n",
       "    </tr>\n",
       "    <tr>\n",
       "      <th>2</th>\n",
       "      <td>Get the names of all students in grade 10</td>\n",
       "      <td>SELECT</td>\n",
       "      <td>[name]</td>\n",
       "      <td>grade = 10</td>\n",
       "    </tr>\n",
       "    <tr>\n",
       "      <th>3</th>\n",
       "      <td>Delete student with id 5</td>\n",
       "      <td>DELETE</td>\n",
       "      <td>[]</td>\n",
       "      <td>id = 5</td>\n",
       "    </tr>\n",
       "    <tr>\n",
       "      <th>4</th>\n",
       "      <td>Add a new student with name 'Bob', age 15, gra...</td>\n",
       "      <td>INSERT</td>\n",
       "      <td>[name, age, grade, section]</td>\n",
       "      <td>('Bob', 15, 10, 'B')</td>\n",
       "    </tr>\n",
       "  </tbody>\n",
       "</table>\n",
       "</div>"
      ],
      "text/plain": [
       "                                               Query  Intent  \\\n",
       "0  Add a new student with name 'Alice', age 14, g...  INSERT   \n",
       "1      Update attendance for student with id 3 to 95  UPDATE   \n",
       "2          Get the names of all students in grade 10  SELECT   \n",
       "3                           Delete student with id 5  DELETE   \n",
       "4  Add a new student with name 'Bob', age 15, gra...  INSERT   \n",
       "\n",
       "                       Columns             Conditions  \n",
       "0  [name, age, grade, section]  ('Alice', 14, 9, 'A')  \n",
       "1                 [attendance]                 id = 3  \n",
       "2                       [name]             grade = 10  \n",
       "3                           []                 id = 5  \n",
       "4  [name, age, grade, section]   ('Bob', 15, 10, 'B')  "
      ]
     },
     "execution_count": 46,
     "metadata": {},
     "output_type": "execute_result"
    }
   ],
   "source": [
    "df.head()"
   ]
  },
  {
   "cell_type": "code",
   "execution_count": null,
   "metadata": {},
   "outputs": [],
   "source": []
  }
 ],
 "metadata": {
  "kernelspec": {
   "display_name": "languageprocessing",
   "language": "python",
   "name": "python3"
  },
  "language_info": {
   "codemirror_mode": {
    "name": "ipython",
    "version": 3
   },
   "file_extension": ".py",
   "mimetype": "text/x-python",
   "name": "python",
   "nbconvert_exporter": "python",
   "pygments_lexer": "ipython3",
   "version": "3.12.4"
  }
 },
 "nbformat": 4,
 "nbformat_minor": 2
}
